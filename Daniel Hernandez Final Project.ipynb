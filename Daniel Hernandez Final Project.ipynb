{
 "cells": [
  {
   "cell_type": "markdown",
   "metadata": {},
   "source": [
    "### Daniel Hernandez\n",
    "## CSC 217 - Spring 2019  - Final Project"
   ]
  },
  {
   "cell_type": "markdown",
   "metadata": {},
   "source": [
    "For my project, I will explore the change in forest fire frequency and intensity in the state of California from the years 1980 to 2010. I want to identify which years have had the biggest amount of recorded fires and lowest amount of recorded fires and see which years have had the highest and lowest average in acres burnt. In addition, I will also look to see if there is a statistically significant relationship between the number of annual recorded forest fires of the decade 1980-1989 and the decade 2000-2010.\n",
    "\n",
    "The data that I will be using is data I have collected from the Federal Fire Occurence Website, located [here](https://wildfire.cr.usgs.gov/firehistory/data.html). I have created csv files from the shapefiles given here, so the data should require minimal cleaning. "
   ]
  },
  {
   "cell_type": "code",
   "execution_count": 85,
   "metadata": {},
   "outputs": [],
   "source": [
    "import pandas as pd\n",
    "import matplotlib.pyplot as plt\n",
    "import numpy as np\n",
    "import seaborn as sns\n",
    "import scipy.stats as stats\n",
    "%matplotlib inline"
   ]
  },
  {
   "cell_type": "code",
   "execution_count": 86,
   "metadata": {},
   "outputs": [
    {
     "data": {
      "text/html": [
       "<div>\n",
       "<style scoped>\n",
       "    .dataframe tbody tr th:only-of-type {\n",
       "        vertical-align: middle;\n",
       "    }\n",
       "\n",
       "    .dataframe tbody tr th {\n",
       "        vertical-align: top;\n",
       "    }\n",
       "\n",
       "    .dataframe thead th {\n",
       "        text-align: right;\n",
       "    }\n",
       "</style>\n",
       "<table border=\"1\" class=\"dataframe\">\n",
       "  <thead>\n",
       "    <tr style=\"text-align: right;\">\n",
       "      <th></th>\n",
       "      <th>Year</th>\n",
       "      <th>Total</th>\n",
       "      <th>TotalAcres</th>\n",
       "      <th>Avg Temp</th>\n",
       "      <th>Max Temp</th>\n",
       "    </tr>\n",
       "  </thead>\n",
       "  <tbody>\n",
       "    <tr>\n",
       "      <th>0</th>\n",
       "      <td>1980</td>\n",
       "      <td>159</td>\n",
       "      <td>75326.5</td>\n",
       "      <td>32.47</td>\n",
       "      <td>43.0</td>\n",
       "    </tr>\n",
       "    <tr>\n",
       "      <th>1</th>\n",
       "      <td>1981</td>\n",
       "      <td>182</td>\n",
       "      <td>113814.7</td>\n",
       "      <td>33.13</td>\n",
       "      <td>42.9</td>\n",
       "    </tr>\n",
       "    <tr>\n",
       "      <th>2</th>\n",
       "      <td>1982</td>\n",
       "      <td>182</td>\n",
       "      <td>39108.2</td>\n",
       "      <td>31.20</td>\n",
       "      <td>41.7</td>\n",
       "    </tr>\n",
       "    <tr>\n",
       "      <th>3</th>\n",
       "      <td>1983</td>\n",
       "      <td>186</td>\n",
       "      <td>49876.2</td>\n",
       "      <td>31.64</td>\n",
       "      <td>42.3</td>\n",
       "    </tr>\n",
       "    <tr>\n",
       "      <th>4</th>\n",
       "      <td>1984</td>\n",
       "      <td>230</td>\n",
       "      <td>109025.6</td>\n",
       "      <td>32.18</td>\n",
       "      <td>41.7</td>\n",
       "    </tr>\n",
       "  </tbody>\n",
       "</table>\n",
       "</div>"
      ],
      "text/plain": [
       "   Year  Total  TotalAcres  Avg Temp  Max Temp\n",
       "0  1980    159     75326.5     32.47      43.0\n",
       "1  1981    182    113814.7     33.13      42.9\n",
       "2  1982    182     39108.2     31.20      41.7\n",
       "3  1983    186     49876.2     31.64      42.3\n",
       "4  1984    230    109025.6     32.18      41.7"
      ]
     },
     "execution_count": 86,
     "metadata": {},
     "output_type": "execute_result"
    }
   ],
   "source": [
    "firedata=pd.read_csv('CA Annual FC and TC.csv',header=0)\n",
    "firedata.head()"
   ]
  },
  {
   "cell_type": "markdown",
   "metadata": {},
   "source": [
    "### Exploratory Analysis\n",
    "\n",
    "First I'll do some exploratory analysis of annual recorded fires and annual total acres burnt."
   ]
  },
  {
   "cell_type": "code",
   "execution_count": 87,
   "metadata": {},
   "outputs": [
    {
     "data": {
      "text/plain": [
       "Text(0.5, 0.92, 'Frequency of Annual Recorded Forest Fires in the State of California 1980-2016')"
      ]
     },
     "execution_count": 87,
     "metadata": {},
     "output_type": "execute_result"
    },
    {
     "data": {
      "image/png": "[encoded data removed]",
      "text/plain": [
       "<Figure size 720x720 with 1 Axes>"
      ]
     },
     "metadata": {
      "needs_background": "light"
     },
     "output_type": "display_data"
    }
   ],
   "source": [
    "fig = plt.figure(figsize=(10,10))\n",
    "plt.hist(firedata[\"Total\"])\n",
    "plt.xlabel(\"Annual Recorded Forest Fires\")\n",
    "plt.ylabel(\"Frequency\")\n",
    "fig.suptitle(\"Frequency of Annual Recorded Forest Fires in the State of California 1980-2016\", fontsize=15, y=0.92)"
   ]
  },
  {
   "cell_type": "code",
   "execution_count": 88,
   "metadata": {},
   "outputs": [
    {
     "data": {
      "text/plain": [
       "Text(0.5, 0.92, 'Frequency of Annual Recorded Forest Fires in the State of California 1980-2016')"
      ]
     },
     "execution_count": 88,
     "metadata": {},
     "output_type": "execute_result"
    },
    {
     "data": {
      "image/png": "[encoded data removed]",
      "text/plain": [
       "<Figure size 720x720 with 1 Axes>"
      ]
     },
     "metadata": {
      "needs_background": "light"
     },
     "output_type": "display_data"
    }
   ],
   "source": [
    "fig = plt.figure(figsize=(10,10))\n",
    "plt.hist(firedata[\"TotalAcres\"],bins=8)\n",
    "plt.xlabel(\"Annual Amount of Acres Burnt\")\n",
    "plt.ylabel(\"Frequency\")\n",
    "fig.suptitle(\"Frequency of Annual Recorded Forest Fires in the State of California 1980-2016\", fontsize=15, y=0.92)"
   ]
  },
  {
   "cell_type": "code",
   "execution_count": 89,
   "metadata": {},
   "outputs": [
    {
     "data": {
      "text/plain": [
       "Text(0.5, 0.92, 'Frequency of Annual Recorded Forest Fires in the State of California 1980-2016')"
      ]
     },
     "execution_count": 89,
     "metadata": {},
     "output_type": "execute_result"
    },
    {
     "data": {
      "image/png": "[encoded data removed]",
      "text/plain": [
       "<Figure size 720x720 with 1 Axes>"
      ]
     },
     "metadata": {
      "needs_background": "light"
     },
     "output_type": "display_data"
    }
   ],
   "source": [
    "fig = plt.figure(figsize=(10,10))\n",
    "plt.boxplot(firedata['Total'])\n",
    "plt.ylabel(\"Annual Recorded Forest Fires\")\n",
    "fig.suptitle(\"Frequency of Annual Recorded Forest Fires in the State of California 1980-2016\", fontsize=15, y=0.92)"
   ]
  },
  {
   "cell_type": "code",
   "execution_count": 90,
   "metadata": {},
   "outputs": [
    {
     "data": {
      "text/plain": [
       "Text(0.5, 0.92, 'Frequency of Annual Acres Burnt in the State of California 1980-2016')"
      ]
     },
     "execution_count": 90,
     "metadata": {},
     "output_type": "execute_result"
    },
    {
     "data": {
      "image/png": "[encoded data removed]",
      "text/plain": [
       "<Figure size 720x720 with 1 Axes>"
      ]
     },
     "metadata": {
      "needs_background": "light"
     },
     "output_type": "display_data"
    }
   ],
   "source": [
    "fig = plt.figure(figsize=(10,10))\n",
    "plt.boxplot(firedata['TotalAcres'])\n",
    "plt.ylabel(\"Annual Acres Burnt\")\n",
    "fig.suptitle(\"Frequency of Annual Acres Burnt in the State of California 1980-2016\", fontsize=15, y=0.92)"
   ]
  },
  {
   "cell_type": "code",
   "execution_count": 91,
   "metadata": {},
   "outputs": [
    {
     "name": "stdout",
     "output_type": "stream",
     "text": [
      "263.86486486486484\n",
      "129249.22702702704\n"
     ]
    }
   ],
   "source": [
    "#Means\n",
    "print(firedata['Total'].mean())\n",
    "print(firedata['TotalAcres'].mean())"
   ]
  },
  {
   "cell_type": "code",
   "execution_count": 92,
   "metadata": {},
   "outputs": [
    {
     "name": "stdout",
     "output_type": "stream",
     "text": [
      "624\n",
      "420707.2\n"
     ]
    }
   ],
   "source": [
    "#Maximums\n",
    "print(firedata['Total'].max())\n",
    "print(firedata['TotalAcres'].max())"
   ]
  },
  {
   "cell_type": "code",
   "execution_count": 93,
   "metadata": {},
   "outputs": [
    {
     "name": "stdout",
     "output_type": "stream",
     "text": [
      "97\n",
      "8441.1\n"
     ]
    }
   ],
   "source": [
    "#Minimums\n",
    "#Maximums\n",
    "print(firedata['Total'].min())\n",
    "print(firedata['TotalAcres'].min())"
   ]
  },
  {
   "cell_type": "code",
   "execution_count": 94,
   "metadata": {},
   "outputs": [
    {
     "name": "stdout",
     "output_type": "stream",
     "text": [
      "11627.50900900901\n",
      "10539968970.503136\n"
     ]
    }
   ],
   "source": [
    "#Variance\n",
    "print(firedata['Total'].var())\n",
    "print(firedata['TotalAcres'].var())"
   ]
  },
  {
   "cell_type": "code",
   "execution_count": 95,
   "metadata": {},
   "outputs": [
    {
     "data": {
      "text/plain": [
       "Total            527.0\n",
       "TotalAcres    412266.1\n",
       "dtype: float64"
      ]
     },
     "execution_count": 95,
     "metadata": {},
     "output_type": "execute_result"
    }
   ],
   "source": [
    "#Range\n",
    "firedata[['Total', 'TotalAcres']].max() - firedata[['Total', 'TotalAcres']].min()"
   ]
  },
  {
   "cell_type": "code",
   "execution_count": 96,
   "metadata": {},
   "outputs": [
    {
     "data": {
      "text/plain": [
       "Total            142.0\n",
       "TotalAcres    121120.9\n",
       "dtype: float64"
      ]
     },
     "execution_count": 96,
     "metadata": {},
     "output_type": "execute_result"
    }
   ],
   "source": [
    "#Interquartile Range\n",
    "firedata[['Total', 'TotalAcres']].quantile(q=0.75) - firedata[['Total', 'TotalAcres']].quantile(q=0.25)"
   ]
  },
  {
   "cell_type": "code",
   "execution_count": 97,
   "metadata": {},
   "outputs": [
    {
     "data": {
      "text/html": [
       "<div>\n",
       "<style scoped>\n",
       "    .dataframe tbody tr th:only-of-type {\n",
       "        vertical-align: middle;\n",
       "    }\n",
       "\n",
       "    .dataframe tbody tr th {\n",
       "        vertical-align: top;\n",
       "    }\n",
       "\n",
       "    .dataframe thead th {\n",
       "        text-align: right;\n",
       "    }\n",
       "</style>\n",
       "<table border=\"1\" class=\"dataframe\">\n",
       "  <thead>\n",
       "    <tr style=\"text-align: right;\">\n",
       "      <th></th>\n",
       "      <th>Year</th>\n",
       "      <th>Total</th>\n",
       "      <th>TotalAcres</th>\n",
       "      <th>Avg Temp</th>\n",
       "      <th>Max Temp</th>\n",
       "    </tr>\n",
       "  </thead>\n",
       "  <tbody>\n",
       "    <tr>\n",
       "      <th>16</th>\n",
       "      <td>1996</td>\n",
       "      <td>624</td>\n",
       "      <td>420707.2</td>\n",
       "      <td>33.48</td>\n",
       "      <td>43.5</td>\n",
       "    </tr>\n",
       "  </tbody>\n",
       "</table>\n",
       "</div>"
      ],
      "text/plain": [
       "    Year  Total  TotalAcres  Avg Temp  Max Temp\n",
       "16  1996    624    420707.2     33.48      43.5"
      ]
     },
     "execution_count": 97,
     "metadata": {},
     "output_type": "execute_result"
    }
   ],
   "source": [
    "#Outliers for Recorded Fires\n",
    "FC_Outliers=np.percentile(firedata['Total'], q=75) + (np.percentile(firedata['Total'], q=75) - np.percentile(firedata['Total'], q=25)) * 1.5\n",
    "firedata[firedata['Total']>=FC_Outliers]"
   ]
  },
  {
   "cell_type": "code",
   "execution_count": 98,
   "metadata": {},
   "outputs": [
    {
     "data": {
      "text/html": [
       "<div>\n",
       "<style scoped>\n",
       "    .dataframe tbody tr th:only-of-type {\n",
       "        vertical-align: middle;\n",
       "    }\n",
       "\n",
       "    .dataframe tbody tr th {\n",
       "        vertical-align: top;\n",
       "    }\n",
       "\n",
       "    .dataframe thead th {\n",
       "        text-align: right;\n",
       "    }\n",
       "</style>\n",
       "<table border=\"1\" class=\"dataframe\">\n",
       "  <thead>\n",
       "    <tr style=\"text-align: right;\">\n",
       "      <th></th>\n",
       "      <th>Year</th>\n",
       "      <th>Total</th>\n",
       "      <th>TotalAcres</th>\n",
       "      <th>Avg Temp</th>\n",
       "      <th>Max Temp</th>\n",
       "    </tr>\n",
       "  </thead>\n",
       "  <tbody>\n",
       "    <tr>\n",
       "      <th>16</th>\n",
       "      <td>1996</td>\n",
       "      <td>624</td>\n",
       "      <td>420707.2</td>\n",
       "      <td>33.48</td>\n",
       "      <td>43.5</td>\n",
       "    </tr>\n",
       "    <tr>\n",
       "      <th>27</th>\n",
       "      <td>2007</td>\n",
       "      <td>324</td>\n",
       "      <td>365000.1</td>\n",
       "      <td>32.03</td>\n",
       "      <td>42.2</td>\n",
       "    </tr>\n",
       "    <tr>\n",
       "      <th>32</th>\n",
       "      <td>2012</td>\n",
       "      <td>161</td>\n",
       "      <td>419495.3</td>\n",
       "      <td>32.59</td>\n",
       "      <td>42.0</td>\n",
       "    </tr>\n",
       "  </tbody>\n",
       "</table>\n",
       "</div>"
      ],
      "text/plain": [
       "    Year  Total  TotalAcres  Avg Temp  Max Temp\n",
       "16  1996    624    420707.2     33.48      43.5\n",
       "27  2007    324    365000.1     32.03      42.2\n",
       "32  2012    161    419495.3     32.59      42.0"
      ]
     },
     "execution_count": 98,
     "metadata": {},
     "output_type": "execute_result"
    }
   ],
   "source": [
    "#Outliers for Acres Burnt\n",
    "Acres_Outliers=np.percentile(firedata['TotalAcres'], q=75) + (np.percentile(firedata['TotalAcres'], q=75) - np.percentile(firedata['TotalAcres'], q=25)) * 1.5\n",
    "firedata[firedata['TotalAcres']>=Acres_Outliers]"
   ]
  },
  {
   "cell_type": "markdown",
   "metadata": {},
   "source": [
    "So what does this data all mean? Looking at the histogram and boxplots, we can see that most years have around 260 annual forest fires. The majority of these years also experience around 120,000 total acres burnt. These numbers seem to vary greatly, some years reporting as low as 97 fires while others report numbers over 400, with an outlier at 624 annual recorded forest fires. The Acres Burnt distribution has 3 outliers all 3 of them having over 300,000 acres burnt."
   ]
  },
  {
   "cell_type": "markdown",
   "metadata": {},
   "source": [
    "### Relationship Between Number of Recorded Forest Fires and Acres Burnt\n",
    "\n",
    "Next I'll explore the relationship between number of fires in a year and acres burnt during that year."
   ]
  },
  {
   "cell_type": "code",
   "execution_count": 99,
   "metadata": {},
   "outputs": [],
   "source": [
    "def evaluate_linear_relationship(a, b):\n",
    "    slope = np.cov(a, b, bias=True)[0][1] / np.var(a)\n",
    "    intercept = np.mean(b) - (slope * np.mean(a))\n",
    "    predictions = (slope * a) + intercept\n",
    "    residuals = b - predictions\n",
    "    return slope, intercept, predictions, residuals"
   ]
  },
  {
   "cell_type": "code",
   "execution_count": 100,
   "metadata": {},
   "outputs": [],
   "source": [
    "slope, intercept, predictions, residuals = evaluate_linear_relationship(firedata['Total'],\n",
    "                                                                        firedata['TotalAcres'])"
   ]
  },
  {
   "cell_type": "code",
   "execution_count": 101,
   "metadata": {},
   "outputs": [
    {
     "data": {
      "text/plain": [
       "Text(0.5, 0.92, 'Annual Recorded Forest Fires Vs. Annual Acres Burnt in California 1980-2016')"
      ]
     },
     "execution_count": 101,
     "metadata": {},
     "output_type": "execute_result"
    },
    {
     "data": {
      "image/png": "[encoded data removed]",
      "text/plain": [
       "<Figure size 720x720 with 1 Axes>"
      ]
     },
     "metadata": {
      "needs_background": "light"
     },
     "output_type": "display_data"
    }
   ],
   "source": [
    "fig = plt.figure(figsize=(10,10))\n",
    "plt.scatter(firedata['Total'],firedata['TotalAcres'])\n",
    "sorted_order = np.argsort(firedata['Total'])\n",
    "plt.plot(firedata['Total'][sorted_order], predictions[sorted_order])\n",
    "plt.ylabel(\"Annual Acres Burnt\")\n",
    "plt.xlabel(\"Recorded Forest Fires\")\n",
    "fig.suptitle(\"Annual Recorded Forest Fires Vs. Annual Acres Burnt in California 1980-2016\", fontsize=15, y=0.92)"
   ]
  },
  {
   "cell_type": "code",
   "execution_count": 102,
   "metadata": {},
   "outputs": [
    {
     "data": {
      "text/plain": [
       "0.1420099170954517"
      ]
     },
     "execution_count": 102,
     "metadata": {},
     "output_type": "execute_result"
    }
   ],
   "source": [
    "#R-Squared Value\n",
    "np.var(predictions) / np.var(firedata['TotalAcres'])"
   ]
  },
  {
   "cell_type": "code",
   "execution_count": 103,
   "metadata": {},
   "outputs": [
    {
     "data": {
      "text/plain": [
       "Text(0.5, 0.92, 'Residuals')"
      ]
     },
     "execution_count": 103,
     "metadata": {},
     "output_type": "execute_result"
    },
    {
     "data": {
      "image/png": "[encoded data removed]",
      "text/plain": [
       "<Figure size 720x720 with 1 Axes>"
      ]
     },
     "metadata": {
      "needs_background": "light"
     },
     "output_type": "display_data"
    }
   ],
   "source": [
    "fig = plt.figure(figsize=(10,10))\n",
    "plt.scatter(predictions, residuals)\n",
    "plt.plot([predictions.min(), predictions.max()], [0,0], linestyle='dotted')\n",
    "plt.xlabel(\"Predictions\")\n",
    "plt.ylabel('Residuals')\n",
    "fig.suptitle('Residuals', fontsize=15, y=0.92)"
   ]
  },
  {
   "cell_type": "markdown",
   "metadata": {},
   "source": [
    "The relationship between the annual number of fires and the annual number of acres burnt for the past 3 decades seems to near non-existant. With a R-squared value of 14%, the predicitve linear model is unreliable."
   ]
  },
  {
   "cell_type": "markdown",
   "metadata": {},
   "source": [
    "### Exploring Data by Year"
   ]
  },
  {
   "cell_type": "code",
   "execution_count": 104,
   "metadata": {},
   "outputs": [
    {
     "data": {
      "text/html": [
       "<div>\n",
       "<style scoped>\n",
       "    .dataframe tbody tr th:only-of-type {\n",
       "        vertical-align: middle;\n",
       "    }\n",
       "\n",
       "    .dataframe tbody tr th {\n",
       "        vertical-align: top;\n",
       "    }\n",
       "\n",
       "    .dataframe thead th {\n",
       "        text-align: right;\n",
       "    }\n",
       "</style>\n",
       "<table border=\"1\" class=\"dataframe\">\n",
       "  <thead>\n",
       "    <tr style=\"text-align: right;\">\n",
       "      <th></th>\n",
       "      <th>Year</th>\n",
       "      <th>Total</th>\n",
       "      <th>TotalAcres</th>\n",
       "      <th>Avg Temp</th>\n",
       "      <th>Max Temp</th>\n",
       "    </tr>\n",
       "  </thead>\n",
       "  <tbody>\n",
       "    <tr>\n",
       "      <th>16</th>\n",
       "      <td>1996</td>\n",
       "      <td>624</td>\n",
       "      <td>420707.2</td>\n",
       "      <td>33.48</td>\n",
       "      <td>43.5</td>\n",
       "    </tr>\n",
       "    <tr>\n",
       "      <th>19</th>\n",
       "      <td>1999</td>\n",
       "      <td>458</td>\n",
       "      <td>217744.6</td>\n",
       "      <td>31.45</td>\n",
       "      <td>40.1</td>\n",
       "    </tr>\n",
       "    <tr>\n",
       "      <th>8</th>\n",
       "      <td>1988</td>\n",
       "      <td>408</td>\n",
       "      <td>153780.8</td>\n",
       "      <td>32.63</td>\n",
       "      <td>43.2</td>\n",
       "    </tr>\n",
       "    <tr>\n",
       "      <th>9</th>\n",
       "      <td>1989</td>\n",
       "      <td>408</td>\n",
       "      <td>41962.8</td>\n",
       "      <td>33.02</td>\n",
       "      <td>43.4</td>\n",
       "    </tr>\n",
       "    <tr>\n",
       "      <th>21</th>\n",
       "      <td>2001</td>\n",
       "      <td>370</td>\n",
       "      <td>119407.3</td>\n",
       "      <td>31.78</td>\n",
       "      <td>41.0</td>\n",
       "    </tr>\n",
       "  </tbody>\n",
       "</table>\n",
       "</div>"
      ],
      "text/plain": [
       "    Year  Total  TotalAcres  Avg Temp  Max Temp\n",
       "16  1996    624    420707.2     33.48      43.5\n",
       "19  1999    458    217744.6     31.45      40.1\n",
       "8   1988    408    153780.8     32.63      43.2\n",
       "9   1989    408     41962.8     33.02      43.4\n",
       "21  2001    370    119407.3     31.78      41.0"
      ]
     },
     "execution_count": 104,
     "metadata": {},
     "output_type": "execute_result"
    }
   ],
   "source": [
    "#Top 5 Fire Counts\n",
    "firedata.sort_values('Total', ascending=False).head()"
   ]
  },
  {
   "cell_type": "code",
   "execution_count": 105,
   "metadata": {},
   "outputs": [
    {
     "data": {
      "text/html": [
       "<div>\n",
       "<style scoped>\n",
       "    .dataframe tbody tr th:only-of-type {\n",
       "        vertical-align: middle;\n",
       "    }\n",
       "\n",
       "    .dataframe tbody tr th {\n",
       "        vertical-align: top;\n",
       "    }\n",
       "\n",
       "    .dataframe thead th {\n",
       "        text-align: right;\n",
       "    }\n",
       "</style>\n",
       "<table border=\"1\" class=\"dataframe\">\n",
       "  <thead>\n",
       "    <tr style=\"text-align: right;\">\n",
       "      <th></th>\n",
       "      <th>Year</th>\n",
       "      <th>Total</th>\n",
       "      <th>TotalAcres</th>\n",
       "      <th>Avg Temp</th>\n",
       "      <th>Max Temp</th>\n",
       "    </tr>\n",
       "  </thead>\n",
       "  <tbody>\n",
       "    <tr>\n",
       "      <th>16</th>\n",
       "      <td>1996</td>\n",
       "      <td>624</td>\n",
       "      <td>420707.2</td>\n",
       "      <td>33.48</td>\n",
       "      <td>43.5</td>\n",
       "    </tr>\n",
       "    <tr>\n",
       "      <th>32</th>\n",
       "      <td>2012</td>\n",
       "      <td>161</td>\n",
       "      <td>419495.3</td>\n",
       "      <td>32.59</td>\n",
       "      <td>42.0</td>\n",
       "    </tr>\n",
       "    <tr>\n",
       "      <th>27</th>\n",
       "      <td>2007</td>\n",
       "      <td>324</td>\n",
       "      <td>365000.1</td>\n",
       "      <td>32.03</td>\n",
       "      <td>42.2</td>\n",
       "    </tr>\n",
       "    <tr>\n",
       "      <th>5</th>\n",
       "      <td>1985</td>\n",
       "      <td>230</td>\n",
       "      <td>228741.3</td>\n",
       "      <td>31.83</td>\n",
       "      <td>43.2</td>\n",
       "    </tr>\n",
       "    <tr>\n",
       "      <th>26</th>\n",
       "      <td>2006</td>\n",
       "      <td>298</td>\n",
       "      <td>221415.7</td>\n",
       "      <td>32.23</td>\n",
       "      <td>43.6</td>\n",
       "    </tr>\n",
       "  </tbody>\n",
       "</table>\n",
       "</div>"
      ],
      "text/plain": [
       "    Year  Total  TotalAcres  Avg Temp  Max Temp\n",
       "16  1996    624    420707.2     33.48      43.5\n",
       "32  2012    161    419495.3     32.59      42.0\n",
       "27  2007    324    365000.1     32.03      42.2\n",
       "5   1985    230    228741.3     31.83      43.2\n",
       "26  2006    298    221415.7     32.23      43.6"
      ]
     },
     "execution_count": 105,
     "metadata": {},
     "output_type": "execute_result"
    }
   ],
   "source": [
    "#Top 5 Acres Burnt\n",
    "firedata.sort_values('TotalAcres', ascending=False).head()"
   ]
  },
  {
   "cell_type": "code",
   "execution_count": 106,
   "metadata": {},
   "outputs": [
    {
     "data": {
      "text/html": [
       "<div>\n",
       "<style scoped>\n",
       "    .dataframe tbody tr th:only-of-type {\n",
       "        vertical-align: middle;\n",
       "    }\n",
       "\n",
       "    .dataframe tbody tr th {\n",
       "        vertical-align: top;\n",
       "    }\n",
       "\n",
       "    .dataframe thead th {\n",
       "        text-align: right;\n",
       "    }\n",
       "</style>\n",
       "<table border=\"1\" class=\"dataframe\">\n",
       "  <thead>\n",
       "    <tr style=\"text-align: right;\">\n",
       "      <th></th>\n",
       "      <th>Year</th>\n",
       "      <th>Total</th>\n",
       "      <th>TotalAcres</th>\n",
       "      <th>Avg Temp</th>\n",
       "      <th>Max Temp</th>\n",
       "    </tr>\n",
       "  </thead>\n",
       "  <tbody>\n",
       "    <tr>\n",
       "      <th>36</th>\n",
       "      <td>2016</td>\n",
       "      <td>97</td>\n",
       "      <td>65037.7</td>\n",
       "      <td>33.11</td>\n",
       "      <td>42.3</td>\n",
       "    </tr>\n",
       "    <tr>\n",
       "      <th>35</th>\n",
       "      <td>2015</td>\n",
       "      <td>109</td>\n",
       "      <td>153860.9</td>\n",
       "      <td>33.18</td>\n",
       "      <td>42.5</td>\n",
       "    </tr>\n",
       "    <tr>\n",
       "      <th>34</th>\n",
       "      <td>2014</td>\n",
       "      <td>119</td>\n",
       "      <td>19757.0</td>\n",
       "      <td>33.55</td>\n",
       "      <td>42.8</td>\n",
       "    </tr>\n",
       "    <tr>\n",
       "      <th>0</th>\n",
       "      <td>1980</td>\n",
       "      <td>159</td>\n",
       "      <td>75326.5</td>\n",
       "      <td>32.47</td>\n",
       "      <td>43.0</td>\n",
       "    </tr>\n",
       "    <tr>\n",
       "      <th>32</th>\n",
       "      <td>2012</td>\n",
       "      <td>161</td>\n",
       "      <td>419495.3</td>\n",
       "      <td>32.59</td>\n",
       "      <td>42.0</td>\n",
       "    </tr>\n",
       "  </tbody>\n",
       "</table>\n",
       "</div>"
      ],
      "text/plain": [
       "    Year  Total  TotalAcres  Avg Temp  Max Temp\n",
       "36  2016     97     65037.7     33.11      42.3\n",
       "35  2015    109    153860.9     33.18      42.5\n",
       "34  2014    119     19757.0     33.55      42.8\n",
       "0   1980    159     75326.5     32.47      43.0\n",
       "32  2012    161    419495.3     32.59      42.0"
      ]
     },
     "execution_count": 106,
     "metadata": {},
     "output_type": "execute_result"
    }
   ],
   "source": [
    "#Bottom 5 Fire Counts\n",
    "firedata.sort_values('Total', ascending=True).head()"
   ]
  },
  {
   "cell_type": "code",
   "execution_count": 107,
   "metadata": {},
   "outputs": [
    {
     "data": {
      "text/html": [
       "<div>\n",
       "<style scoped>\n",
       "    .dataframe tbody tr th:only-of-type {\n",
       "        vertical-align: middle;\n",
       "    }\n",
       "\n",
       "    .dataframe tbody tr th {\n",
       "        vertical-align: top;\n",
       "    }\n",
       "\n",
       "    .dataframe thead th {\n",
       "        text-align: right;\n",
       "    }\n",
       "</style>\n",
       "<table border=\"1\" class=\"dataframe\">\n",
       "  <thead>\n",
       "    <tr style=\"text-align: right;\">\n",
       "      <th></th>\n",
       "      <th>Year</th>\n",
       "      <th>Total</th>\n",
       "      <th>TotalAcres</th>\n",
       "      <th>Avg Temp</th>\n",
       "      <th>Max Temp</th>\n",
       "    </tr>\n",
       "  </thead>\n",
       "  <tbody>\n",
       "    <tr>\n",
       "      <th>11</th>\n",
       "      <td>1991</td>\n",
       "      <td>234</td>\n",
       "      <td>8441.1</td>\n",
       "      <td>31.49</td>\n",
       "      <td>41.1</td>\n",
       "    </tr>\n",
       "    <tr>\n",
       "      <th>6</th>\n",
       "      <td>1986</td>\n",
       "      <td>253</td>\n",
       "      <td>15111.5</td>\n",
       "      <td>32.58</td>\n",
       "      <td>42.0</td>\n",
       "    </tr>\n",
       "    <tr>\n",
       "      <th>34</th>\n",
       "      <td>2014</td>\n",
       "      <td>119</td>\n",
       "      <td>19757.0</td>\n",
       "      <td>33.55</td>\n",
       "      <td>42.8</td>\n",
       "    </tr>\n",
       "    <tr>\n",
       "      <th>2</th>\n",
       "      <td>1982</td>\n",
       "      <td>182</td>\n",
       "      <td>39108.2</td>\n",
       "      <td>31.20</td>\n",
       "      <td>41.7</td>\n",
       "    </tr>\n",
       "    <tr>\n",
       "      <th>9</th>\n",
       "      <td>1989</td>\n",
       "      <td>408</td>\n",
       "      <td>41962.8</td>\n",
       "      <td>33.02</td>\n",
       "      <td>43.4</td>\n",
       "    </tr>\n",
       "  </tbody>\n",
       "</table>\n",
       "</div>"
      ],
      "text/plain": [
       "    Year  Total  TotalAcres  Avg Temp  Max Temp\n",
       "11  1991    234      8441.1     31.49      41.1\n",
       "6   1986    253     15111.5     32.58      42.0\n",
       "34  2014    119     19757.0     33.55      42.8\n",
       "2   1982    182     39108.2     31.20      41.7\n",
       "9   1989    408     41962.8     33.02      43.4"
      ]
     },
     "execution_count": 107,
     "metadata": {},
     "output_type": "execute_result"
    }
   ],
   "source": [
    "#Bottom 5 Acres Burnt\n",
    "firedata.sort_values('TotalAcres', ascending=True).head()"
   ]
  },
  {
   "cell_type": "markdown",
   "metadata": {},
   "source": [
    "\n",
    "\n",
    "Looking at annual recorded forest fire count and acres burnt over the years chronologically can give us a better sense of any established trends over the past 3 decades:"
   ]
  },
  {
   "cell_type": "code",
   "execution_count": 108,
   "metadata": {},
   "outputs": [
    {
     "data": {
      "text/plain": [
       "Text(0.5, 0.92, 'Recorded Forest Fires in the State of California 1980-2016')"
      ]
     },
     "execution_count": 108,
     "metadata": {},
     "output_type": "execute_result"
    },
    {
     "data": {
      "image/png": "[encoded data removed]",
      "text/plain": [
       "<Figure size 720x720 with 1 Axes>"
      ]
     },
     "metadata": {
      "needs_background": "light"
     },
     "output_type": "display_data"
    }
   ],
   "source": [
    "fig = plt.figure(figsize=(10,10))\n",
    "plt.bar(firedata['Year'],firedata['Total'])\n",
    "plt.ylabel(\"Recorded Forest Fires\")\n",
    "plt.xlabel(\"Year\")\n",
    "fig.suptitle(\"Recorded Forest Fires in the State of California 1980-2016\", fontsize=15, y=0.92)"
   ]
  },
  {
   "cell_type": "code",
   "execution_count": 109,
   "metadata": {},
   "outputs": [
    {
     "data": {
      "text/plain": [
       "Text(0.5, 0.92, 'Annual Amount of Acres Burnt in the State of California 1980-2016')"
      ]
     },
     "execution_count": 109,
     "metadata": {},
     "output_type": "execute_result"
    },
    {
     "data": {
      "image/png": "[encoded data removed]",
      "text/plain": [
       "<Figure size 720x720 with 1 Axes>"
      ]
     },
     "metadata": {
      "needs_background": "light"
     },
     "output_type": "display_data"
    }
   ],
   "source": [
    "fig = plt.figure(figsize=(10,10))\n",
    "plt.bar(firedata['Year'],firedata['TotalAcres'])\n",
    "plt.ylabel(\"Annual Acres Burnt\")\n",
    "plt.xlabel(\"Year\")\n",
    "fig.suptitle(\"Annual Amount of Acres Burnt in the State of California 1980-2016\", fontsize=15, y=0.92)"
   ]
  },
  {
   "cell_type": "markdown",
   "metadata": {},
   "source": [
    "Looking at the number of recorded forest fires over the years, we can see a slight increase to 300 annual recorded forest fires in the late 1990's, and then a decrease to around 100 recorded fires as of recent years.\n",
    "\n",
    "The graph displaying the total acres shows no obvious trend or pattern. Something I can check in the future is too look into why a year with a high number of acres burnts  mostly results in the following year having a much lower number of acres burnt. My educated guess would be that so much area is burnt that smallers fires that occur don't have as much landcover to work it as it was burnt the year prior."
   ]
  },
  {
   "cell_type": "markdown",
   "metadata": {},
   "source": [
    "### Examining the Relationship Between 1980's Firecount and 2000's Firecount"
   ]
  },
  {
   "cell_type": "markdown",
   "metadata": {},
   "source": [
    "Let's organize our data by categorizing it by decade:"
   ]
  },
  {
   "cell_type": "code",
   "execution_count": 112,
   "metadata": {},
   "outputs": [],
   "source": [
    "FC_1980=firedata[firedata['Year'] <= 1989]['Total']\n",
    "FC_2000=firedata.loc['20':'29']['Total']"
   ]
  },
  {
   "cell_type": "code",
   "execution_count": 113,
   "metadata": {},
   "outputs": [
    {
     "data": {
      "text/plain": [
       "Text(0.5, 0.92, \"Difference in FireCount in the 1980's and the 2000's\")"
      ]
     },
     "execution_count": 113,
     "metadata": {},
     "output_type": "execute_result"
    },
    {
     "data": {
      "image/png": "[encoded data removed]",
      "text/plain": [
       "<Figure size 720x720 with 1 Axes>"
      ]
     },
     "metadata": {
      "needs_background": "light"
     },
     "output_type": "display_data"
    }
   ],
   "source": [
    "fig = plt.figure(figsize=(10,10))\n",
    "plt.boxplot([FC_1980,FC_2000])\n",
    "plt.xticks([1,2], [\"1980's\", \"2000's\"])\n",
    "plt.ylabel(\"Number of Recorded Forest Fires\")\n",
    "fig.suptitle(\"Difference in FireCount in the 1980's and the 2000's\", fontsize=15, y=0.92)"
   ]
  },
  {
   "cell_type": "code",
   "execution_count": 114,
   "metadata": {},
   "outputs": [
    {
     "data": {
      "text/plain": [
       "260.5"
      ]
     },
     "execution_count": 114,
     "metadata": {},
     "output_type": "execute_result"
    }
   ],
   "source": [
    "FC_1980.mean()"
   ]
  },
  {
   "cell_type": "code",
   "execution_count": 61,
   "metadata": {},
   "outputs": [
    {
     "data": {
      "text/plain": [
       "286.2"
      ]
     },
     "execution_count": 61,
     "metadata": {},
     "output_type": "execute_result"
    }
   ],
   "source": [
    "FC_2000.mean()"
   ]
  },
  {
   "cell_type": "code",
   "execution_count": 63,
   "metadata": {},
   "outputs": [
    {
     "data": {
      "text/plain": [
       "25.69999999999999"
      ]
     },
     "execution_count": 63,
     "metadata": {},
     "output_type": "execute_result"
    }
   ],
   "source": [
    "FC_2000.mean()-FC_1980.mean()"
   ]
  },
  {
   "cell_type": "markdown",
   "metadata": {},
   "source": [
    "We can use hypothesis testing to answer the question stated in our introduction - Is there a statistically signifcant difference between the number of recorded forest fires in the 1980 decade and the 2000 decade?\n",
    "\n",
    "The null hypothesis is that there is no statistically significant difference in the number of recorded forest fires in the 1980 decade and the 2000 decade. The alternative hypothesis is that there is a statistically signifcant difference in the number of recorded forest fires in the 1980 decade and the 2000 decade. This will be a one-sided test at a significance level of 0.05, meaning that we will reject the observed difference(25.69) if it's above the 95th percentile.  "
   ]
  },
  {
   "cell_type": "code",
   "execution_count": 69,
   "metadata": {},
   "outputs": [
    {
     "data": {
      "text/plain": [
       "Text(0.5, 0.92, 'Bootstrapped Differences in Gain in Education Rate Between 2000 and 2015')"
      ]
     },
     "execution_count": 69,
     "metadata": {},
     "output_type": "execute_result"
    },
    {
     "data": {
      "image/png": "[encoded data removed]",
      "text/plain": [
       "<Figure size 720x720 with 1 Axes>"
      ]
     },
     "metadata": {
      "needs_background": "light"
     },
     "output_type": "display_data"
    }
   ],
   "source": [
    "np.random.seed(42)\n",
    "diff = []\n",
    "for i in range(10000):\n",
    "    total = np.concatenate((FC_1980,FC_2000), axis=None)\n",
    "    np.random.shuffle(total)\n",
    "    new_1980 = total[:len(FC_2000)]\n",
    "    new_2000 = total[len(FC_2000):]\n",
    "    diff.append(np.mean(new_1980) - np.mean(new_2000))\n",
    "fig = plt.figure(figsize=(10,10))\n",
    "plt.hist(diff, bins=30);\n",
    "plt.xlabel(\"% Difference in FireCount\")\n",
    "plt.ylabel(\"# of Simulations\")\n",
    "fig.suptitle(\"Bootstrapped Differences in Gain in Education Rate Between 2000 and 2015\", fontsize=15, y=0.92)"
   ]
  },
  {
   "cell_type": "code",
   "execution_count": 66,
   "metadata": {},
   "outputs": [
    {
     "data": {
      "text/plain": [
       "59.909999999999854"
      ]
     },
     "execution_count": 66,
     "metadata": {},
     "output_type": "execute_result"
    }
   ],
   "source": [
    "np.percentile(diff, 95)"
   ]
  },
  {
   "cell_type": "code",
   "execution_count": 67,
   "metadata": {},
   "outputs": [
    {
     "data": {
      "text/plain": [
       "75.875"
      ]
     },
     "execution_count": 67,
     "metadata": {},
     "output_type": "execute_result"
    }
   ],
   "source": [
    "stats.percentileofscore(diff, 25.69999999999999)"
   ]
  },
  {
   "cell_type": "markdown",
   "metadata": {},
   "source": [
    "The observed difference of 25.69 lies in the 75th percentile of the 10,000 simulated values. This means that we can accept the null hypothesis that there is no statistically significant difference in the number of recorded forest fires in the 1980 decade and the 2000 decade."
   ]
  },
  {
   "cell_type": "markdown",
   "metadata": {},
   "source": [
    "### Conclusion"
   ]
  },
  {
   "cell_type": "markdown",
   "metadata": {},
   "source": [
    "In conclusion, we can see through our data visualizations that most years from 1980 to 2016 experience approximately 260 annual forest fires. These fires each year cause around a number of 120,000 total acres to be burned. there is a great deal of variance surrounding these fires, which will need more data and variable to be explained. The relationship between the annual amount of recorded forest fires and the annual amount of acres burnt hold nearly no linear relationship, so we can conclude that it would be unable to say what amount of acres were burnt that year given the amount of recorded fires during that year. Looking at our bootstrap test, we can also conclude that there is no statistical difference between the number of recorded fires in the 1980 decade and the 2000 decade. "
   ]
  }
 ],
 "metadata": {
  "kernelspec": {
   "display_name": "Python 3",
   "language": "python",
   "name": "python3"
  },
  "language_info": {
   "codemirror_mode": {
    "name": "ipython",
    "version": 3
   },
   "file_extension": ".py",
   "mimetype": "text/x-python",
   "name": "python",
   "nbconvert_exporter": "python",
   "pygments_lexer": "ipython3",
   "version": "3.7.1"
  }
 },
 "nbformat": 4,
 "nbformat_minor": 2
}
